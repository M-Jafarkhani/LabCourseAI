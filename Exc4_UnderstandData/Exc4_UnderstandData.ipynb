{
 "cells": [
  {
   "cell_type": "markdown",
   "id": "3aedf97b",
   "metadata": {},
   "source": [
    "# Excercise 4: <br /> Understand and Clean a Dataset"
   ]
  },
  {
   "cell_type": "markdown",
   "id": "6496bd3a",
   "metadata": {},
   "source": [
    "## Import data"
   ]
  },
  {
   "cell_type": "markdown",
   "id": "4ce25ded",
   "metadata": {},
   "source": [
    "### Load Packages"
   ]
  },
  {
   "cell_type": "code",
   "execution_count": null,
   "id": "366831f0",
   "metadata": {},
   "outputs": [],
   "source": []
  },
  {
   "cell_type": "markdown",
   "id": "45e10a09",
   "metadata": {},
   "source": [
    "### Load Data into Dataframe"
   ]
  },
  {
   "cell_type": "code",
   "execution_count": null,
   "id": "2c3cef22",
   "metadata": {},
   "outputs": [],
   "source": []
  }
 ],
 "metadata": {
  "kernelspec": {
   "display_name": "labCourseKRB",
   "language": "python",
   "name": "python3"
  },
  "language_info": {
   "name": "python",
   "version": "3.12.10"
  }
 },
 "nbformat": 4,
 "nbformat_minor": 5
}
