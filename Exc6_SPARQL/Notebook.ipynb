{
  "nbformat": 4,
  "nbformat_minor": 0,
  "metadata": {
    "colab": {
      "provenance": []
    },
    "kernelspec": {
      "name": "python3",
      "display_name": "Python 3"
    },
    "language_info": {
      "name": "python"
    }
  },
  "cells": [
    {
      "cell_type": "code",
      "execution_count": 1,
      "metadata": {
        "colab": {
          "base_uri": "https://localhost:8080/"
        },
        "id": "r195ACLONXVq",
        "outputId": "c26d0d17-aa8c-488d-a28f-cac0f7a888cf"
      },
      "outputs": [
        {
          "output_type": "stream",
          "name": "stdout",
          "text": [
            "Collecting ifcopenshell\n",
            "  Downloading ifcopenshell-0.8.2-py311-none-manylinux_2_31_x86_64.whl.metadata (11 kB)\n",
            "Collecting rdflib\n",
            "  Downloading rdflib-7.1.4-py3-none-any.whl.metadata (11 kB)\n",
            "Requirement already satisfied: shapely in /usr/local/lib/python3.11/dist-packages (from ifcopenshell) (2.1.0)\n",
            "Requirement already satisfied: numpy in /usr/local/lib/python3.11/dist-packages (from ifcopenshell) (2.0.2)\n",
            "Collecting isodate (from ifcopenshell)\n",
            "  Downloading isodate-0.7.2-py3-none-any.whl.metadata (11 kB)\n",
            "Requirement already satisfied: python-dateutil in /usr/local/lib/python3.11/dist-packages (from ifcopenshell) (2.9.0.post0)\n",
            "Collecting lark (from ifcopenshell)\n",
            "  Downloading lark-1.2.2-py3-none-any.whl.metadata (1.8 kB)\n",
            "Requirement already satisfied: typing-extensions in /usr/local/lib/python3.11/dist-packages (from ifcopenshell) (4.13.2)\n",
            "Requirement already satisfied: pyparsing<4,>=2.1.0 in /usr/local/lib/python3.11/dist-packages (from rdflib) (3.2.3)\n",
            "Requirement already satisfied: six>=1.5 in /usr/local/lib/python3.11/dist-packages (from python-dateutil->ifcopenshell) (1.17.0)\n",
            "Downloading ifcopenshell-0.8.2-py311-none-manylinux_2_31_x86_64.whl (40.8 MB)\n",
            "\u001b[2K   \u001b[90m━━━━━━━━━━━━━━━━━━━━━━━━━━━━━━━━━━━━━━━━\u001b[0m \u001b[32m40.8/40.8 MB\u001b[0m \u001b[31m6.1 MB/s\u001b[0m eta \u001b[36m0:00:00\u001b[0m\n",
            "\u001b[?25hDownloading rdflib-7.1.4-py3-none-any.whl (565 kB)\n",
            "\u001b[2K   \u001b[90m━━━━━━━━━━━━━━━━━━━━━━━━━━━━━━━━━━━━━━━━\u001b[0m \u001b[32m565.1/565.1 kB\u001b[0m \u001b[31m42.7 MB/s\u001b[0m eta \u001b[36m0:00:00\u001b[0m\n",
            "\u001b[?25hDownloading isodate-0.7.2-py3-none-any.whl (22 kB)\n",
            "Downloading lark-1.2.2-py3-none-any.whl (111 kB)\n",
            "\u001b[2K   \u001b[90m━━━━━━━━━━━━━━━━━━━━━━━━━━━━━━━━━━━━━━━━\u001b[0m \u001b[32m111.0/111.0 kB\u001b[0m \u001b[31m10.7 MB/s\u001b[0m eta \u001b[36m0:00:00\u001b[0m\n",
            "\u001b[?25hInstalling collected packages: rdflib, lark, isodate, ifcopenshell\n",
            "Successfully installed ifcopenshell-0.8.2 isodate-0.7.2 lark-1.2.2 rdflib-7.1.4\n"
          ]
        }
      ],
      "source": [
        "!pip install ifcopenshell rdflib"
      ]
    },
    {
      "cell_type": "code",
      "source": [
        "import ifcopenshell\n",
        "import ifcopenshell.geom\n",
        "import shapely.geometry\n",
        "from rdflib import Graph, Namespace, URIRef, Literal, RDF\n",
        "\n",
        "IFC_PATH = \"/content/Building_Architecture.ifc\"\n",
        "\n",
        "ARC = Namespace(\"http://example.org/arc#\")\n",
        "IFC = Namespace(\"https://standards.buildingsmart.org/IFC/DEV/IFC4/ADD2_TC1/OWL\")\n",
        "GEO = Namespace(\"http://www.opengis.net/ont/geosparql#\")\n",
        "\n",
        "g = Graph()\n",
        "g.bind(\"str\", ARC)\n",
        "g.bind(\"ifc\", IFC)\n",
        "g.bind(\"geo\", GEO)\n",
        "\n",
        "model = ifcopenshell.open(IFC_PATH)\n",
        "settings = ifcopenshell.geom.settings()\n",
        "settings.set(settings.USE_WORLD_COORDS, True)\n",
        "\n",
        "for element in model.by_type(\"IfcProduct\"):\n",
        "    try:\n",
        "        shape = ifcopenshell.geom.create_shape(settings, element)\n",
        "        verts = shape.geometry.verts  # flat list: x1, y1, z1, x2, y2, z2, ...\n",
        "        coords = [(verts[i], verts[i + 1], verts[i + 2]) for i in range(0, len(verts), 3)]\n",
        "\n",
        "        # Use 2D projection for WKT (simplified for RDF)\n",
        "        points_2d = [(x, y) for x, y, z in coords]\n",
        "        linestring = shapely.geometry.LineString(points_2d)\n",
        "        wkt = linestring.wkt\n",
        "\n",
        "        element_type = element.is_a()\n",
        "        element_uri = URIRef(ARC + element.GlobalId.replace('$', '_'))\n",
        "        geom_uri = URIRef(element_uri + \"_geom\")\n",
        "\n",
        "        g.add((element_uri, RDF.type, IFC[element_type]))\n",
        "        g.add((element_uri, GEO.hasGeometry, geom_uri))\n",
        "        g.add((geom_uri, GEO.asWKT, Literal(wkt, datatype=GEO.wktLiteral)))\n",
        "\n",
        "    except Exception as e:\n",
        "        print(f\"Skipped element {element.GlobalId} ({element.is_a()}): {e}\")\n",
        "\n",
        "# Save RDF to Turtle file\n",
        "g.serialize(\"Building-Arc_Geo.ttl\", format=\"turtle\")\n"
      ],
      "metadata": {
        "colab": {
          "base_uri": "https://localhost:8080/"
        },
        "id": "HJ8exVt55blT",
        "outputId": "69816ead-26d6-4c04-ad18-ae01e3835227"
      },
      "execution_count": 13,
      "outputs": [
        {
          "output_type": "stream",
          "name": "stdout",
          "text": [
            "Skipped element 1wADrO19H3w980h1wUyXLk (IfcBuildingElementProxy): Representation is NULL\n",
            "Skipped element 0bo7_K6az7AA$4RxkSNVNM (IfcBuildingElementProxy): Representation is NULL\n",
            "Skipped element 3dkFAzOGrAIuOzY_RdrdVv (IfcChimney): Representation is NULL\n",
            "Skipped element 2iPwJwpPDCSgMheXwk9cBT (IfcRoof): Representation is NULL\n",
            "Skipped element 1Ano2ZUxnEIvVQ_beukl8b (IfcBuildingStorey): Representation is NULL\n",
            "Skipped element 0c$N1CTon2BB2Sp89385G8 (IfcBuilding): Representation is NULL\n",
            "Skipped element 23sFQGRy90RxVbRHD9iSE2 (IfcSite): Representation is NULL\n",
            "Skipped element 1Pbuu0tu59NfhrTsztVBK1 (IfcSite): Representation is NULL\n",
            "RDF export complete: infra_site_all_geometry.ttl\n"
          ]
        }
      ]
    }
  ]
}